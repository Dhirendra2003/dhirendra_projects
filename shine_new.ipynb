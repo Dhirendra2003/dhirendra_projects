{
 "cells": [
  {
   "cell_type": "code",
   "execution_count": 44,
   "metadata": {},
   "outputs": [
    {
     "name": "stdout",
     "output_type": "stream",
     "text": [
      "https://www.shine.com/job-search/web-developer-fresher-jobs-in-pune?q=web%2C+&loc=nashik\n",
      "https://www.shine.com/job-search/web-developer-fresher-jobs-in-pune?q=web%2C+&loc=nashik\n",
      "https://www.shine.com/job-search/web-developer-fresher-jobs-in-pune?q=web%2C+&loc=nashik\n"
     ]
    }
   ],
   "source": [
    "import requests\n",
    "from bs4 import BeautifulSoup\n",
    "import csv\n",
    "\n",
    "def make_url(position, location):\n",
    "    \"\"\"Generate url from position and location\"\"\"\n",
    "    template = 'https://www.shine.com/job-search/web-developer-fresher-jobs-in-pune?q={}%2C+&loc={}'\n",
    "    position = position.replace(' ', '+')\n",
    "    location = location.replace(' ', '+')\n",
    "    url = template.format(position, location)\n",
    "    return url\n",
    "    print(url)\n",
    "    \n",
    "\n",
    "\n",
    "make_url(\"web\", \"nashik\")\n",
    "url=make_url(\"web\", \"nashik\")\n",
    "print(url)\n",
    "print(url)\n",
    "print(url)"
   ]
  },
  {
   "cell_type": "code",
   "execution_count": 36,
   "metadata": {},
   "outputs": [
    {
     "name": "stdout",
     "output_type": "stream",
     "text": [
      "https://www.shine.com/job-search/web-developer-fresher-jobs-in-pune?q=web%2C+&loc=nashik\n"
     ]
    }
   ],
   "source": [
    "r=requests.get(url)\n",
    "print(url)\n",
    "htmlCont=r.content\n",
    "#print(htmlCont)\n"
   ]
  },
  {
   "cell_type": "code",
   "execution_count": 37,
   "metadata": {},
   "outputs": [],
   "source": [
    "posts=[]\n",
    "company=[]\n",
    "details=[]"
   ]
  },
  {
   "cell_type": "code",
   "execution_count": 38,
   "metadata": {},
   "outputs": [
    {
     "name": "stdout",
     "output_type": "stream",
     "text": [
      "# Hot1 day agoData Entry, Online Data Entry, Computer Operator Back O ...Shivam Kumar Maurya Hiring For RM S...0 to 4 YrsNashik+9Dehradun, Mohali, Bathinda, Amritsar, Anand, Udaipur, Vadodara, Panchkula, MysoreRemote99 PositionsNot InterestedApply\n",
      "# 1 week agoIN RBIN_Dy. Manager/ Asst Manager_Data Analyst_ MFCBosch Group7 to 13 YrsNashikRegularNot InterestedApply\n",
      "# 2 months agoAvailable for Branch Operations Manager & Operation exe ...RAPID RECRUITS SERVICES0 to 4 YrsNashik+9Latur, Other Tamil Nadu, Other Madhya Pradesh, Pondicherry, Other Kerala, Tuticorin, Other Karnataka, Theni, CoimbatoreRegular51 PositionsNot InterestedApply\n",
      "# 1 week agoSenior PHP DeveloperGFL RECRUITMENT PRIVATE LIMITED1 to 3 YrsNashikRegular14 PositionsNot InterestedApply\n",
      "# 1 week agoPHP DeveloperGFL RECRUITMENT PRIVATE LIMITED3 to 5 YrsNashikBe an Early ApplicantRegularNot InterestedApply\n",
      "# 2 months agoWEBSITE DESIGNERGFL RECRUITMENT PRIVATE LIMITED3 to 5 YrsNashikRegularNot InterestedApply\n",
      "# 1 week agoSenior PHP DeveloperGFL RECRUITMENT PRIVATE LIMITED1 to 3 YrsNashikRegular14 PositionsNot InterestedApply\n",
      "# 1 week agoPost  for PHP DEVELOPERGFL RECRUITMENT PRIVATE LIMITED3 to 5 YrsNashikRegularNot InterestedApply\n",
      "# 6 days agoEquity broking DealerApex Services Hiring For One Of The...1 to 6 YrsNashik+9Kalyan, Navi Mumbai, Thane, Pune, Nagpur, Dombivali, Bhiwandi, Vasai, Mumbai CityRegular50 PositionsNot InterestedApply\n",
      "# 1 week agoReactJS DeveloperGFL RECRUITMENT PRIVATE LIMITED1 to 5 YrsNashikRegularNot InterestedApply\n",
      "# 1 week agoReact Native DeveloperGFL RECRUITMENT PRIVATE LIMITED1 to 5 YrsNashikRegularNot InterestedApply\n",
      "# 1 week agoSenior Software DeveloperEagle Peak Biz Solutions Private Li...2 to 5 YrsNashikRegular2 PositionsNot InterestedApply\n",
      "# 2 weeks agoCandidates for PHP / Laravel DeveloperDC Consultants1 to 5 YrsNashik+4Pune, Nagpur, Mumbai City, SuratRegularNot InterestedApply\n",
      "# 2 weeks agoEquity Advisor(Dealer Broking)Apex Services Hiring For Leading Br...1 to 6 YrsNashik+9Kalyan, Akola, Dhule, Navi Mumbai, Ahmednagar, Pune, Jalgaon, Nagpur, Mumbai CityRegular50 PositionsNot InterestedApply\n",
      "# 2 weeks agoUrgent Opening for For Dot Net Developer - RemoteTALENT MAX HR & MANGAGEMENT CONSULT...4 to 6 YrsNashik+3Other Maharashtra, Pune, Mumbai CityRemoteNot InterestedApply\n",
      "# 1 week agoPHP DeveloperGFL RECRUITMENT PRIVATE LIMITED3 to 5 YrsNashikBe an Early ApplicantRegularNot InterestedApply\n",
      "# 1 week agoSenior PHP DeveloperGFL RECRUITMENT PRIVATE LIMITED1 to 3 YrsNashikRegular14 PositionsNot InterestedApply\n",
      "# 2 months agoReact Native DeveloperGFL RECRUITMENT PRIVATE LIMITED2 to 7 YrsNashikRegularNot InterestedApply\n",
      "# 2 months agoReact Native DeveloperGFL RECRUITMENT PRIVATE LIMITED1 to 5 YrsNashikRegularNot InterestedApply\n",
      "# 2 months agoHiring Sr. developer - NashikGFL RECRUITMENT PRIVATE LIMITED1 to 3 YrsNashikBe an Early ApplicantRegularNot InterestedApply\n"
     ]
    }
   ],
   "source": [
    "soup=BeautifulSoup(htmlCont , 'html.parser')\n",
    "#print(soup.prettify)\n",
    "for el in soup.find_all('div', attrs={'class': 'jobCard'}):\n",
    "        print(\"#\",el.get_text())# job details\n",
    "        details.append(el.get_text())\n",
    "\n"
   ]
  },
  {
   "cell_type": "code",
   "execution_count": 40,
   "metadata": {},
   "outputs": [],
   "source": [
    "for el in soup.find_all('h2'):    #('div', attrs={'class': 'jobCard'}):\n",
    "        #print(\"#\",el.get_text())\n",
    "        posts.append(el.get_text())\n",
    "for el in soup.find_all('div', attrs={'class': 'jobCard_jobCard_cName__mYnow'}):\n",
    "        #print(\"#\",el.get_text())\n",
    "        company.append(el.get_text())"
   ]
  },
  {
   "cell_type": "code",
   "execution_count": 42,
   "metadata": {},
   "outputs": [
    {
     "name": "stdout",
     "output_type": "stream",
     "text": [
      "23\n",
      "20\n"
     ]
    }
   ],
   "source": [
    "print(len(posts))\n",
    "print(len(company))"
   ]
  },
  {
   "cell_type": "code",
   "execution_count": 45,
   "metadata": {},
   "outputs": [
    {
     "name": "stdout",
     "output_type": "stream",
     "text": [
      "('Data Entry, Online Data Entry, Computer Operator Back O ...', 'Shivam Kumar Maurya Hiring For RM S...', 'Hot1 day agoData Entry, Online Data Entry, Computer Operator Back O ...Shivam Kumar Maurya Hiring For RM S...0 to 4 YrsNashik+9Dehradun, Mohali, Bathinda, Amritsar, Anand, Udaipur, Vadodara, Panchkula, MysoreRemote99 PositionsNot InterestedApply')\n",
      "('IN RBIN_Dy. Manager/ Asst Manager_Data Analyst_ MFC', 'Bosch Group', '1 week agoIN RBIN_Dy. Manager/ Asst Manager_Data Analyst_ MFCBosch Group7 to 13 YrsNashikRegularNot InterestedApply')\n",
      "('Available for Branch Operations Manager & Operation exe ...', 'RAPID RECRUITS SERVICES', '2 months agoAvailable for Branch Operations Manager & Operation exe ...RAPID RECRUITS SERVICES0 to 4 YrsNashik+9Latur, Other Tamil Nadu, Other Madhya Pradesh, Pondicherry, Other Kerala, Tuticorin, Other Karnataka, Theni, CoimbatoreRegular51 PositionsNot InterestedApply')\n",
      "('Senior PHP Developer', 'GFL RECRUITMENT PRIVATE LIMITED', '1 week agoSenior PHP DeveloperGFL RECRUITMENT PRIVATE LIMITED1 to 3 YrsNashikRegular14 PositionsNot InterestedApply')\n",
      "('PHP Developer', 'GFL RECRUITMENT PRIVATE LIMITED', '1 week agoPHP DeveloperGFL RECRUITMENT PRIVATE LIMITED3 to 5 YrsNashikBe an Early ApplicantRegularNot InterestedApply')\n",
      "('WEBSITE DESIGNER', 'GFL RECRUITMENT PRIVATE LIMITED', '2 months agoWEBSITE DESIGNERGFL RECRUITMENT PRIVATE LIMITED3 to 5 YrsNashikRegularNot InterestedApply')\n",
      "(' How relevant did you find the job search results ?', 'GFL RECRUITMENT PRIVATE LIMITED', '1 week agoSenior PHP DeveloperGFL RECRUITMENT PRIVATE LIMITED1 to 3 YrsNashikRegular14 PositionsNot InterestedApply')\n",
      "('Senior PHP Developer', 'GFL RECRUITMENT PRIVATE LIMITED', '1 week agoPost  for PHP DEVELOPERGFL RECRUITMENT PRIVATE LIMITED3 to 5 YrsNashikRegularNot InterestedApply')\n",
      "('Post  for PHP DEVELOPER', 'Apex Services Hiring For One Of The...', '6 days agoEquity broking DealerApex Services Hiring For One Of The...1 to 6 YrsNashik+9Kalyan, Navi Mumbai, Thane, Pune, Nagpur, Dombivali, Bhiwandi, Vasai, Mumbai CityRegular50 PositionsNot InterestedApply')\n",
      "('Equity broking Dealer', 'GFL RECRUITMENT PRIVATE LIMITED', '1 week agoReactJS DeveloperGFL RECRUITMENT PRIVATE LIMITED1 to 5 YrsNashikRegularNot InterestedApply')\n",
      "('ReactJS Developer', 'GFL RECRUITMENT PRIVATE LIMITED', '1 week agoReact Native DeveloperGFL RECRUITMENT PRIVATE LIMITED1 to 5 YrsNashikRegularNot InterestedApply')\n",
      "('React Native Developer', 'Eagle Peak Biz Solutions Private Li...', '1 week agoSenior Software DeveloperEagle Peak Biz Solutions Private Li...2 to 5 YrsNashikRegular2 PositionsNot InterestedApply')\n",
      "('Senior Software Developer', 'DC Consultants', '2 weeks agoCandidates for PHP / Laravel DeveloperDC Consultants1 to 5 YrsNashik+4Pune, Nagpur, Mumbai City, SuratRegularNot InterestedApply')\n",
      "('Candidates for PHP / Laravel Developer', 'Apex Services Hiring For Leading Br...', '2 weeks agoEquity Advisor(Dealer Broking)Apex Services Hiring For Leading Br...1 to 6 YrsNashik+9Kalyan, Akola, Dhule, Navi Mumbai, Ahmednagar, Pune, Jalgaon, Nagpur, Mumbai CityRegular50 PositionsNot InterestedApply')\n",
      "('Equity Advisor(Dealer Broking)', 'TALENT MAX HR & MANGAGEMENT CONSULT...', '2 weeks agoUrgent Opening for For Dot Net Developer - RemoteTALENT MAX HR & MANGAGEMENT CONSULT...4 to 6 YrsNashik+3Other Maharashtra, Pune, Mumbai CityRemoteNot InterestedApply')\n",
      "('Urgent Opening for For Dot Net Developer - Remote', 'GFL RECRUITMENT PRIVATE LIMITED', '1 week agoPHP DeveloperGFL RECRUITMENT PRIVATE LIMITED3 to 5 YrsNashikBe an Early ApplicantRegularNot InterestedApply')\n",
      "('PHP Developer', 'GFL RECRUITMENT PRIVATE LIMITED', '1 week agoSenior PHP DeveloperGFL RECRUITMENT PRIVATE LIMITED1 to 3 YrsNashikRegular14 PositionsNot InterestedApply')\n",
      "('Senior PHP Developer', 'GFL RECRUITMENT PRIVATE LIMITED', '2 months agoReact Native DeveloperGFL RECRUITMENT PRIVATE LIMITED2 to 7 YrsNashikRegularNot InterestedApply')\n",
      "('React Native Developer', 'GFL RECRUITMENT PRIVATE LIMITED', '2 months agoReact Native DeveloperGFL RECRUITMENT PRIVATE LIMITED1 to 5 YrsNashikRegularNot InterestedApply')\n",
      "('React Native Developer', 'GFL RECRUITMENT PRIVATE LIMITED', '2 months agoHiring Sr. developer - NashikGFL RECRUITMENT PRIVATE LIMITED1 to 3 YrsNashikBe an Early ApplicantRegularNot InterestedApply')\n"
     ]
    }
   ],
   "source": [
    "with open('final.csv', 'w', newline='', encoding='utf-8') as f:\n",
    "        writer = csv.writer(f)\n",
    "        writer.writerow(['JobTitle', 'Company',\"details\"])\n",
    "        #writer.writerows(posts)\n",
    "        #writer.writerows(company)\n",
    "        for i in range(0,len(company)):\n",
    "            #print(i)\n",
    "           # writer.writerow([i])\n",
    "            #writer.writerow(posts[i])\n",
    "            #writer.writerow(company[i])\n",
    "            writer.writerow((posts[i],company[i],details[i])) \n",
    "            print((posts[i],company[i],details[i]))"
   ]
  }
 ],
 "metadata": {
  "kernelspec": {
   "display_name": "Python 3",
   "language": "python",
   "name": "python3"
  },
  "language_info": {
   "codemirror_mode": {
    "name": "ipython",
    "version": 3
   },
   "file_extension": ".py",
   "mimetype": "text/x-python",
   "name": "python",
   "nbconvert_exporter": "python",
   "pygments_lexer": "ipython3",
   "version": "3.11.2"
  },
  "orig_nbformat": 4
 },
 "nbformat": 4,
 "nbformat_minor": 2
}
